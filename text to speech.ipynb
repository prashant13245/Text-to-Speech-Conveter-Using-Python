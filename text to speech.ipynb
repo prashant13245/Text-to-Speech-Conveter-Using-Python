{
 "cells": [
  {
   "cell_type": "code",
   "execution_count": 1,
   "id": "b13a6747-3450-4dc1-9637-636667544137",
   "metadata": {},
   "outputs": [],
   "source": [
    "import tkinter as tk\n",
    "from tkinter import *\n",
    "from tkinter import filedialog\n",
    "from tkinter.ttk import Combobox\n",
    "import pyttsx3\n",
    "import os\n",
    "from gtts import gTTS \n",
    "from playsound import playsound"
   ]
  },
  {
   "cell_type": "code",
   "execution_count": 2,
   "id": "35b72ad6-8d0e-4fc0-8ab1-dbe7104b1623",
   "metadata": {},
   "outputs": [],
   "source": [
    "import tkinter as tk\n",
    "\n",
    "root = tk.Tk()  # ✅ Yeh sahi hai\n",
    "root.title(\"Simple text to speech converter\")\n",
    "root.geometry(\"1000x580+200+80\")\n",
    "root.resizable(False, False)\n",
    "root.configure(bg=\"#F7AC40\")\n",
    "root.mainloop()\n"
   ]
  },
  {
   "cell_type": "code",
   "execution_count": null,
   "id": "0a971a5e-4963-445f-ac44-7f35e583c635",
   "metadata": {},
   "outputs": [],
   "source": [
    "tts = pyttsx3.init()\n",
    "def speaknow():\n",
    "    text = text_box.get(1.0,END)\n",
    "    gender= gender_box.get()\n",
    "    speed= speed_box.get()\n",
    "    voices = tts.getProperty('voices')\n",
    "\n",
    "\n",
    "     def setvoice():\n",
    "         if(gender == 'Male'):\n",
    "             tts.setProperty('voice',voices[0].id)\n",
    "             tts.say(text)\n",
    "             tts.runAndWait()\n",
    "         else\n",
    "             tts.setProperty('voice',voices[1].id)\n",
    "             tts.say(text)\n",
    "             tts.runAndWait()\n",
    "\n",
    "     if(text):\n",
    "         if(speed == 'fast'):\n",
    "             tts.setProperty('rate',250)\n",
    "             setvoice()\n",
    "         elif(speed == 'Medium'):\n",
    "             tts.setProperty('rate',150)\n",
    "             setvoice()\n",
    "         else:\n",
    "             tts.setProperty('rate',60)\n",
    "             setvoice()"
   ]
  },
  {
   "cell_type": "code",
   "execution_count": null,
   "id": "728dc38b-f02e-4d55-9509-8cdef8632071",
   "metadata": {},
   "outputs": [],
   "source": [
    "simpli_logo PhotoImage(file= \"C:/Users/SLP09375/Desktop/TTS/simpli.png\")\n",
    " Label(root, image simpli_logo, bg=\"#F7AC40\").place x = 880 , y = 539 )\n",
    " #root.mainloop()"
   ]
  },
  {
   "cell_type": "code",
   "execution_count": null,
   "id": "3e5eb5e2-3da1-4abf-8c34-70b06832af70",
   "metadata": {},
   "outputs": [],
   "source": [
    "logo_image PhotoImage(file= \"C:/Users/SLP09375/Desktop/TTS/speech.png\")\n",
    " root.iconphoto (False, logo_image)\n",
    " #root.mainloop()"
   ]
  },
  {
   "cell_type": "code",
   "execution_count": null,
   "id": "0f619b66-c5e7-4342-b9f6-77d28f65ce77",
   "metadata": {},
   "outputs": [],
   "source": [
    " upper_frame =Frame (root, bg=\"#14A7DD\", width= 1200, height = 130)\n",
    " upper_frame.place( x = 0 , y = 0 )\n",
    "\n",
    " picture PhotoImage(file = \"C:/Users/SLP09375/Desktop/TTS/speech.png\")\n",
    " Label (upper_frame, image picture, bg=\"#14A7DD\").place( x = 150 , y = 20 )\n",
    "\n",
    " root.mainloop()"
   ]
  },
  {
   "cell_type": "code",
   "execution_count": null,
   "id": "65cd8b67-8dac-4e44-8965-6a659720bebb",
   "metadata": {},
   "outputs": [],
   "source": [
    "Label(upper_frame,text=\"text to speech converter\", font=\"times newroman 40 bold\", bg=\"#14A7DD\", bg='white').place(x=250, y=350)\n",
    "root.mainloop()"
   ]
  },
  {
   "cell_type": "code",
   "execution_count": null,
   "id": "4fcc3613-8b59-4d3b-a54c-449f686565bb",
   "metadata": {},
   "outputs": [],
   "source": [
    "text_box Text (root, font=\"calibri 20\", bg=\"white\", relief GROOVE, wrap WORD, bd=0)\n",
    "text_box.place(x=30, y = 150 width=940, height= 180)\n",
    "#root.mainloop()\n"
   ]
  },
  {
   "cell_type": "code",
   "execution_count": null,
   "id": "ce0ebc03-8569-4c1b-bcd2-7ca5f7da74a6",
   "metadata": {},
   "outputs": [],
   "source": [
    "gender box Combobox (root, values[ 'Male', 'Female'], font = \"Robote 12\", state='r', width=12)\n",
    "gender_box.place(x=340, y = 400 )\n",
    "gender_box.set('Male')\n",
    "#root.mainloop()\n"
   ]
  },
  {
   "cell_type": "code",
   "execution_count": null,
   "id": "037267ef-f52a-4621-abcd-59674575c636",
   "metadata": {},
   "outputs": [],
   "source": [
    "speed_box Combobox(root, values=['Fast', 'Medium', 'Slow'], font \"Robote 12\", state='r', width=12)\n",
    "speed_box.place(x=540, y=400)\n",
    "speed_box.set('Medium\")\n"
   ]
  },
  {
   "cell_type": "code",
   "execution_count": null,
   "id": "45d187a6-e3b8-405e-8b51-81e03cb67b4d",
   "metadata": {},
   "outputs": [],
   "source": [
    "Label(root, text=\"Select Voice\", font = 'Times New Roman 15 bold',   bg=\"#F7AC48\",fg=\"White\").place (x = 340 y = 370 )\n",
    "Label(root, text=\"Select Speed\", font  = 'Times New Roman 15 bold',   bg=\"#F7AC48\", fg=\"White\").place (x = 540 y = 370 ) \n",
    "root.mainloop()"
   ]
  },
  {
   "cell_type": "code",
   "execution_count": null,
   "id": "e73b9c7c-4bca-4e53-9573-79c55e5c822b",
   "metadata": {},
   "outputs": [],
   "source": [
    "play_buttons = PhotoImage(file = \"C:/Users/SLP09375/Desktop/TTS/play.png\")\n",
    "I\n",
    "play btn = Button(root, text=\"Play\", compound=  LEFT, image= play_button, bg='white', width =130, font=\"arial 14 bold\", borderwidth='0.1', command= speaknow)\n",
    "play_btn.place(x=435, y=450)\n",
    "root.mainloop()"
   ]
  },
  {
   "cell_type": "code",
   "execution_count": null,
   "id": "fb83adea-75bb-45ba-976b-44c07de6014b",
   "metadata": {},
   "outputs": [],
   "source": []
  }
 ],
 "metadata": {
  "kernelspec": {
   "display_name": "Python 3 (ipykernel)",
   "language": "python",
   "name": "python3"
  },
  "language_info": {
   "codemirror_mode": {
    "name": "ipython",
    "version": 3
   },
   "file_extension": ".py",
   "mimetype": "text/x-python",
   "name": "python",
   "nbconvert_exporter": "python",
   "pygments_lexer": "ipython3",
   "version": "3.12.7"
  }
 },
 "nbformat": 4,
 "nbformat_minor": 5
}
